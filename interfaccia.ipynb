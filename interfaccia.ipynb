{
  "nbformat": 4,
  "nbformat_minor": 0,
  "metadata": {
    "colab": {
      "provenance": [],
      "authorship_tag": "ABX9TyMDZ/8wWSpDG3a1Tp8qoDTA",
      "include_colab_link": true
    },
    "kernelspec": {
      "name": "python3",
      "display_name": "Python 3"
    },
    "language_info": {
      "name": "python"
    }
  },
  "cells": [
    {
      "cell_type": "markdown",
      "metadata": {
        "id": "view-in-github",
        "colab_type": "text"
      },
      "source": [
        "<a href=\"https://colab.research.google.com/github/GiamTeo/Serie_A_Analysis/blob/main/interfaccia.ipynb\" target=\"_parent\"><img src=\"https://colab.research.google.com/assets/colab-badge.svg\" alt=\"Open In Colab\"/></a>"
      ]
    },
    {
      "cell_type": "code",
      "execution_count": null,
      "metadata": {
        "id": "v4Lo30AGnCI-"
      },
      "outputs": [],
      "source": [
        "import pandas as pd\n",
        "from collections import Counter\n",
        "import ipywidgets as widgets\n",
        "from IPython.display import display\n",
        "from google.colab import files\n",
        "\n",
        "uploaded = files.upload()\n",
        "\n",
        "for filename in uploaded.keys():\n",
        "    print('File caricato:', filename)\n",
        "\n",
        "# Caricamento dei dati\n",
        "data = pd.read_csv(\"matches_serie_2022-23.csv\")\n",
        "\n",
        "# Funzione per visualizzare i risultati delle partite di ciascuna squadra\n",
        "def show_results(squadra):\n",
        "    display(data[(data['team_name_home'] == squadra) | (data['team_name_away'] == squadra)])\n",
        "\n",
        "# Funzione per visualizzare la formazione più volte schierata di una squadra\n",
        "def most_common_lineup(squadra):\n",
        "    formazioni = data[data['team_name_home'] == squadra]['lineup_home'].tolist() + \\\n",
        "                 data[data['team_name_away'] == squadra]['lineup_away'].tolist()\n",
        "    formazione_più_comune = Counter(formazioni).most_common(1)[0][0]\n",
        "    print(\"Formazione più comune per\", squadra, \":\", formazione_più_comune)\n",
        "\n",
        "# Funzione per calcolare le statistiche sui gol di una squadra\n",
        "def goal_statistics(squadra):\n",
        "    partite_casa = data[data['team_name_home'] == squadra]\n",
        "    partite_trasferta = data[data['team_name_away'] == squadra]\n",
        "\n",
        "    gol_seganti = partite_casa['team_home_score'].sum() + partite_trasferta['team_away_score'].sum()\n",
        "    gol_subiti = partite_casa['team_away_score'].sum() + partite_trasferta['team_home_score'].sum()\n",
        "\n",
        "    print(\"Gol segnati da\", squadra, \":\", gol_seganti)\n",
        "    print(\"Gol subiti da\", squadra, \":\", gol_subiti)\n",
        "\n",
        "# Funzione per visualizzare la classifica finale\n",
        "def final_standings():\n",
        "    squadre = data['team_name_home'].unique()\n",
        "    classifica = pd.DataFrame(columns=['Squadra', 'Punti'])\n",
        "\n",
        "    for squadra in squadre:\n",
        "        partite_casa = data[data['team_name_home'] == squadra]\n",
        "        partite_trasferta = data[data['team_name_away'] == squadra]\n",
        "\n",
        "        punti = (partite_casa['team_home_score'] > partite_casa['team_away_score']).sum() * 3 + \\\n",
        "                (partite_trasferta['team_away_score'] > partite_trasferta['team_home_score']).sum() * 3 + \\\n",
        "                ((partite_casa['team_home_score'] == partite_casa['team_away_score']) |\n",
        "                 (partite_trasferta['team_away_score'] == partite_trasferta['team_home_score'])).sum()\n",
        "\n",
        "        classifica = classifica.append({'Squadra': squadra, 'Punti': punti}, ignore_index=True)\n",
        "\n",
        "    classifica = classifica.sort_values(by='Punti', ascending=False).reset_index(drop=True)\n",
        "    display(classifica)\n",
        "\n",
        "# Creazione dei widget\n",
        "squadra_dropdown = widgets.Dropdown(options=data['team_name_home'].unique(), description='Scegli una squadra:')\n",
        "button_results = widgets.Button(description='Mostra risultati')\n",
        "button_lineup = widgets.Button(description='Mostra formazione più comune')\n",
        "button_goals = widgets.Button(description='Mostra statistiche sui gol')\n",
        "button_standings = widgets.Button(description='Mostra classifica finale')\n",
        "\n",
        "# Definizione delle azioni dei bottoni\n",
        "def show_results_action(_):\n",
        "    show_results(squadra_dropdown.value)\n",
        "\n",
        "def lineup_action(_):\n",
        "    most_common_lineup(squadra_dropdown.value)\n",
        "\n",
        "def goals_action(_):\n",
        "    goal_statistics(squadra_dropdown.value)\n",
        "\n",
        "def standings_action(_):\n",
        "    final_standings()\n",
        "\n",
        "button_results.on_click(show_results_action)\n",
        "button_lineup.on_click(lineup_action)\n",
        "button_goals.on_click(goals_action)\n",
        "button_standings.on_click(standings_action)\n",
        "\n",
        "# Visualizzazione dei widget\n",
        "display(squadra_dropdown)\n",
        "display(button_results)\n",
        "display(button_lineup)\n",
        "display(button_goals)\n",
        "display(button_standings)\n"
      ]
    }
  ]
}